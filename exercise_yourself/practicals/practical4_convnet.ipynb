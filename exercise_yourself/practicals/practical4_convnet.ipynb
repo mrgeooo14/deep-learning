{
 "cells": [
  {
   "cell_type": "code",
   "execution_count": 204,
   "metadata": {},
   "outputs": [
    {
     "name": "stdout",
     "output_type": "stream",
     "text": [
      "libraries imported\n",
      "Using cuda device\n"
     ]
    }
   ],
   "source": [
    "import torch\n",
    "from torch import nn\n",
    "from torch.nn import functional as F\n",
    "import dlc_practical_prologue as prologue\n",
    "import matplotlib.pyplot as plt\n",
    "import seaborn as sns\n",
    "sns.set()\n",
    "\n",
    "\n",
    "device = \"cuda\" if torch.cuda.is_available() else \"cpu\"\n",
    "print('libraries imported')\n",
    "print(\"Using {} device\".format(device))"
   ]
  },
  {
   "cell_type": "markdown",
   "metadata": {},
   "source": [
    "MNIST normalized dataset with one hot labels target vectors will be used again."
   ]
  },
  {
   "cell_type": "code",
   "execution_count": 205,
   "metadata": {},
   "outputs": [
    {
     "name": "stdout",
     "output_type": "stream",
     "text": [
      "* Using MNIST\n",
      "** Reduce the data-set (use --full for the full thing)\n",
      "** Use 1000 train and 1000 test samples\n",
      "torch.Size([1000, 1, 28, 28]) torch.Size([1000, 1, 28, 28])\n"
     ]
    }
   ],
   "source": [
    "def display_mnist_tensor(x):\n",
    "    n = 28\n",
    "    plt.imshow(x.numpy().reshape(n, n), cmap=\"copper\") \n",
    "\n",
    "train_input, train_target, test_input, test_target = prologue.load_data(one_hot_labels = True, normalize = True, flatten = False)\n",
    "print(train_input.shape, test_input.shape)"
   ]
  },
  {
   "cell_type": "markdown",
   "metadata": {},
   "source": [
    "We start by creating our model through the class **Net** (which inherits from the *nn.Module* class). We define the layers of our neural network through the **__init__()** method. \n",
    "\n",
    "Then we define the way which the layers interact with each other through the **forward()** function."
   ]
  },
  {
   "cell_type": "code",
   "execution_count": 197,
   "metadata": {},
   "outputs": [],
   "source": [
    "class Net(nn.Module):\n",
    "    def __init__(self, hidden_layer_n): ## defining the layers\n",
    "        super().__init__()\n",
    "        self.conv1 = nn.Conv2d(1, 32, kernel_size=5)\n",
    "        self.conv2 = nn.Conv2d(32, 64, kernel_size=5)\n",
    "        self.fc1 = nn.Linear(256, hidden_layer_n)\n",
    "        self.fc2 = nn.Linear(hidden_layer_n, 10)\n",
    "\n",
    "    def forward(self, x): \n",
    "        x = F.relu(F.max_pool2d(self.conv1(x), kernel_size=3, stride=3))\n",
    "        x = F.relu(F.max_pool2d(self.conv2(x), kernel_size=2, stride=2))\n",
    "        x = F.relu(self.fc1(x.view(-1, 256)))\n",
    "        x = self.fc2(x)\n",
    "        return x"
   ]
  },
  {
   "cell_type": "markdown",
   "metadata": {},
   "source": [
    "We define a function to train our model by exploring the training set using batches. The goal being the minimization of the loss function which can be defined as a parameter too (we are using *MSELoss*). The model's parameters (weights and biases) are updated as ($p -= \\eta * \\frac{\\delta p}{\\delta l}$), based on the gradients with respect to these parameters.\n",
    "\n",
    "Another function to compute the errors between the true classes and predictions is defined."
   ]
  },
  {
   "cell_type": "code",
   "execution_count": 198,
   "metadata": {},
   "outputs": [],
   "source": [
    "def train_model(n_epochs, eta, loss_criterion, model, train_input, train_target, mini_batch_size):\n",
    "    for e in range(n_epochs):\n",
    "        acc_loss = 0 ## set error as 0 each iteration\n",
    "        ## Using mini-batches\n",
    "        for b in range(0, train_input.size(0), mini_batch_size): \n",
    "            output = model(train_input.narrow(0, b, mini_batch_size))\n",
    "            loss = loss_criterion(output, train_target.narrow(0, b, mini_batch_size))\n",
    "            acc_loss = acc_loss + loss.item()\n",
    "\n",
    "            model.zero_grad() ## setting the gradients to zero before the loss calculation\n",
    "            loss.backward()\n",
    "            with torch.no_grad():\n",
    "                for p in model.parameters():\n",
    "                    p -= eta * p.grad\n",
    "                    \n",
    "    # print('Final Output: ', output, output.shape)\n",
    "    # print(torch.argmax(output, dim=1))\n",
    "    print('Model Training Finished - Final loss after {} epochs: {}'.format(n_epochs, acc_loss))\n",
    "    \n",
    "    \n",
    "def compute_nb_errors(model, input, target):\n",
    "    with torch.no_grad():\n",
    "        accuracy = 0.0\n",
    "        max_indeces = torch.unsqueeze(torch.argmax(input, dim = 1), 1) ## getting the indexes of max values\n",
    "        accuracy = torch.gather(target, 1, max_indeces).sum() ## sum how many 1s did we find (correct classification)\n",
    "    return 1.0 - (accuracy / target.size(0)).item()"
   ]
  },
  {
   "cell_type": "markdown",
   "metadata": {},
   "source": [
    "Defining Parameters: the loss function $l$, learning rate (step size) $\\eta$, mini batch size $b$, number of epochs $n$.\n",
    "\n",
    "Regarding batch size $b$, a smaller batch size increases training time however increases accuracy too (e.g a jump $100 \\to 10$)."
   ]
  },
  {
   "cell_type": "code",
   "execution_count": 199,
   "metadata": {},
   "outputs": [],
   "source": [
    "criterion = nn.MSELoss()\n",
    "eta = 1e-1\n",
    "mini_batch_size = 10\n",
    "nb_epochs = 25\n",
    "\n",
    "## Print the weights\n",
    "# for param in model.parameters():\n",
    "#   print(param.data)"
   ]
  },
  {
   "cell_type": "markdown",
   "metadata": {},
   "source": [
    "Training the model we defined."
   ]
  },
  {
   "cell_type": "code",
   "execution_count": 200,
   "metadata": {},
   "outputs": [
    {
     "name": "stdout",
     "output_type": "stream",
     "text": [
      "Model Training Finished - Final loss after 25 epochs: 0.521716499235481\n"
     ]
    }
   ],
   "source": [
    "model = Net(hidden_layer_n=200)\n",
    "train_model(nb_epochs, eta, criterion, model, train_input, train_target, mini_batch_size)"
   ]
  },
  {
   "cell_type": "markdown",
   "metadata": {},
   "source": [
    "Evaluating the trained model on the test data."
   ]
  },
  {
   "cell_type": "code",
   "execution_count": 201,
   "metadata": {},
   "outputs": [
    {
     "name": "stdout",
     "output_type": "stream",
     "text": [
      "Classification Error on the training set: 0.20%\n",
      "Classification Error on the testing set: 5.00%\n"
     ]
    }
   ],
   "source": [
    "error_train = compute_nb_errors(model, model(train_input), train_target)\n",
    "error_test = compute_nb_errors(model, model(test_input), test_target)\n",
    "\n",
    "print('Classification Error on the training set: {0:.2f}%'.format(error_train * 100))\n",
    "print('Classification Error on the testing set: {0:.2f}%'.format(error_test * 100))"
   ]
  },
  {
   "cell_type": "markdown",
   "metadata": {},
   "source": [
    "Visualization of what the model is predicting again."
   ]
  },
  {
   "cell_type": "code",
   "execution_count": 202,
   "metadata": {},
   "outputs": [
    {
     "name": "stdout",
     "output_type": "stream",
     "text": [
      "Predictions example: [2, 8, 8, 8, 8, 7, 4, 7, 3, 0]\n"
     ]
    },
    {
     "data": {
      "image/png": "[encoded data removed]",
      "text/plain": [
       "<Figure size 1080x504 with 10 Axes>"
      ]
     },
     "metadata": {},
     "output_type": "display_data"
    }
   ],
   "source": [
    "import random\n",
    "\n",
    "i_random = random.randrange(0, test_input.size(0) - 10)\n",
    "predictions_batch = [torch.argmax(model(test_input)[i]).item() for i in range(i_random, i_random + 10)]\n",
    "print('Predictions example:', predictions_batch)\n",
    "\n",
    "fig1, axes = plt.subplots(2, 5, figsize = (15, 7))\n",
    "ax = axes.ravel()\n",
    "for i in range(i_random, i_random + 10):\n",
    "    ax[i - i_random].set_title('True: {} - Prediction: {}'.format(torch.argmax(test_target[i], dim=0).item(), predictions_batch[i - i_random]))\n",
    "    ax[i - i_random].imshow(test_input[i].view(28, 28), cmap='copper')\n",
    "    ax[i - i_random].axis('off')\n",
    "plt.show()"
   ]
  },
  {
   "cell_type": "markdown",
   "metadata": {},
   "source": [
    "3. Testing the model out with different numbers of hidden layers."
   ]
  },
  {
   "cell_type": "code",
   "execution_count": 203,
   "metadata": {},
   "outputs": [
    {
     "name": "stdout",
     "output_type": "stream",
     "text": [
      "Model Training Finished - Final loss after 25 epochs: 3.391419881954789\n",
      "Classification Error on the training set with 10 hidden layers: 3.8999974727630615%\n",
      "Classification Error on the testing set with 10 hidden layers: 15.200001001358032%\n",
      "\n",
      "Model Training Finished - Final loss after 25 epochs: 0.5415978769306093\n",
      "Classification Error on the training set with 50 hidden layers: 0.1999974250793457%\n",
      "Classification Error on the testing set with 50 hidden layers: 5.099999904632568%\n",
      "\n",
      "Model Training Finished - Final loss after 25 epochs: 0.49953892605844885\n",
      "Classification Error on the training set with 200 hidden layers: 0.1999974250793457%\n",
      "Classification Error on the testing set with 200 hidden layers: 4.199999570846558%\n",
      "\n",
      "Model Training Finished - Final loss after 25 epochs: 0.45068314869422466\n",
      "Classification Error on the training set with 500 hidden layers: 0.09999871253967285%\n",
      "Classification Error on the testing set with 500 hidden layers: 5.099999904632568%\n",
      "\n",
      "Model Training Finished - Final loss after 25 epochs: 0.41545004677027464\n",
      "Classification Error on the training set with 1000 hidden layers: 0.0%\n",
      "Classification Error on the testing set with 1000 hidden layers: 5.0000011920928955%\n",
      "\n"
     ]
    }
   ],
   "source": [
    "hidden_layers = [10, 50, 200, 500, 1000]\n",
    "\n",
    "for layer_n in hidden_layers:   \n",
    "    model = Net(hidden_layer_n=layer_n)\n",
    "    train_model(nb_epochs, eta, criterion, model, train_input, train_target, mini_batch_size)\n",
    "    \n",
    "    error_train = compute_nb_errors(model, model(train_input), train_target)\n",
    "    error_test = compute_nb_errors(model, model(test_input), test_target)\n",
    "    \n",
    "    print('Classification Error on the training set with {} hidden layers: {}%'.format(layer_n, error_train * 100))\n",
    "    print('Classification Error on the testing set with {} hidden layers: {}%'.format(layer_n, error_test * 100))\n",
    "    print('')"
   ]
  }
 ],
 "metadata": {
  "kernelspec": {
   "display_name": "Python 3.9.7 64-bit",
   "language": "python",
   "name": "python3"
  },
  "language_info": {
   "codemirror_mode": {
    "name": "ipython",
    "version": 3
   },
   "file_extension": ".py",
   "mimetype": "text/x-python",
   "name": "python",
   "nbconvert_exporter": "python",
   "pygments_lexer": "ipython3",
   "version": "3.9.7"
  },
  "orig_nbformat": 4,
  "vscode": {
   "interpreter": {
    "hash": "6290ab70aa2c9e6859d722745d4fdeafb895ca1190e93c7ac9c8d926153eb965"
   }
  }
 },
 "nbformat": 4,
 "nbformat_minor": 2
}
